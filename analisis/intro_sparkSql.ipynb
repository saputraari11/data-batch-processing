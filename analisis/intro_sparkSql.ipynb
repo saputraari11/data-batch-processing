{
 "cells": [
  {
   "cell_type": "code",
   "execution_count": 34,
   "metadata": {},
   "outputs": [],
   "source": [
    "from pyspark import SparkConf,SparkContext\n",
    "from pyspark.sql import SQLContext,functions as F\n",
    "from pyspark.sql.types import *"
   ]
  },
  {
   "cell_type": "code",
   "execution_count": 4,
   "metadata": {},
   "outputs": [
    {
     "data": {
      "text/plain": [
       "<pyspark.conf.SparkConf at 0x7f59859384f0>"
      ]
     },
     "execution_count": 4,
     "metadata": {},
     "output_type": "execute_result"
    }
   ],
   "source": [
    "conf = SparkConf()\n",
    "conf.setMaster(\"local[*]\").setAppName(\"into_sql\")"
   ]
  },
  {
   "cell_type": "code",
   "execution_count": 6,
   "metadata": {},
   "outputs": [
    {
     "name": "stderr",
     "output_type": "stream",
     "text": [
      "Setting default log level to \"WARN\".\n",
      "To adjust logging level use sc.setLogLevel(newLevel). For SparkR, use setLogLevel(newLevel).\n"
     ]
    },
    {
     "name": "stdout",
     "output_type": "stream",
     "text": [
      "23/02/13 09:12:46 WARN NativeCodeLoader: Unable to load native-hadoop library for your platform... using builtin-java classes where applicable\n"
     ]
    }
   ],
   "source": [
    "sc = SparkContext.getOrCreate(conf)"
   ]
  },
  {
   "cell_type": "code",
   "execution_count": 7,
   "metadata": {},
   "outputs": [
    {
     "name": "stderr",
     "output_type": "stream",
     "text": [
      "/home/saputra/belajar/data-batch-processing/belajar_batch/lib/python3.9/site-packages/pyspark/sql/context.py:112: FutureWarning: Deprecated in 3.0.0. Use SparkSession.builder.getOrCreate() instead.\n",
      "  warnings.warn(\n"
     ]
    }
   ],
   "source": [
    "spark = SQLContext(sc)"
   ]
  },
  {
   "cell_type": "code",
   "execution_count": 99,
   "metadata": {},
   "outputs": [],
   "source": [
    "sc.stop()"
   ]
  },
  {
   "cell_type": "code",
   "execution_count": 76,
   "metadata": {},
   "outputs": [],
   "source": [
    "df_green = spark.read.option(\"header\",True).parquet(\"./data/pq/green/*/*\")"
   ]
  },
  {
   "cell_type": "code",
   "execution_count": 75,
   "metadata": {},
   "outputs": [],
   "source": [
    "df_yellow = spark.read.option(\"header\",True).parquet(\"./data/pq/yellow/*/*\")"
   ]
  },
  {
   "cell_type": "code",
   "execution_count": 12,
   "metadata": {},
   "outputs": [
    {
     "name": "stderr",
     "output_type": "stream",
     "text": [
      "                                                                                \r"
     ]
    },
    {
     "data": {
      "text/plain": [
       "8348567"
      ]
     },
     "execution_count": 12,
     "metadata": {},
     "output_type": "execute_result"
    }
   ],
   "source": [
    "df_green.count()"
   ]
  },
  {
   "cell_type": "code",
   "execution_count": 13,
   "metadata": {},
   "outputs": [
    {
     "data": {
      "text/plain": [
       "122586321"
      ]
     },
     "execution_count": 13,
     "metadata": {},
     "output_type": "execute_result"
    }
   ],
   "source": [
    "df_yellow.count()"
   ]
  },
  {
   "cell_type": "code",
   "execution_count": 16,
   "metadata": {},
   "outputs": [
    {
     "data": {
      "text/plain": [
       "StructType([StructField('VendorID', IntegerType(), True), StructField('tpep_pickup_datetime', TimestampType(), True), StructField('tpep_dropoff_datetime', TimestampType(), True), StructField('passenger_count', IntegerType(), True), StructField('trip_distance', DoubleType(), True), StructField('RatecodeID', IntegerType(), True), StructField('store_and_fwd_flag', StringType(), True), StructField('PULocationID', IntegerType(), True), StructField('DOLocationID', IntegerType(), True), StructField('payment_type', IntegerType(), True), StructField('fare_amount', DoubleType(), True), StructField('extra', DoubleType(), True), StructField('mta_tax', DoubleType(), True), StructField('tip_amount', DoubleType(), True), StructField('tolls_amount', DoubleType(), True), StructField('improvement_surcharge', DoubleType(), True), StructField('total_amount', DoubleType(), True), StructField('congestion_surcharge', DoubleType(), True)])"
      ]
     },
     "execution_count": 16,
     "metadata": {},
     "output_type": "execute_result"
    }
   ],
   "source": [
    "df_yellow.schema"
   ]
  },
  {
   "cell_type": "code",
   "execution_count": 82,
   "metadata": {},
   "outputs": [
    {
     "data": {
      "text/plain": [
       "['VendorID',\n",
       " 'pickup_datetime',\n",
       " 'dropoff_datetime',\n",
       " 'passenger_count',\n",
       " 'trip_distance',\n",
       " 'RatecodeID',\n",
       " 'store_and_fwd_flag',\n",
       " 'PULocationID',\n",
       " 'DOLocationID',\n",
       " 'payment_type',\n",
       " 'fare_amount',\n",
       " 'extra',\n",
       " 'mta_tax',\n",
       " 'tip_amount',\n",
       " 'tolls_amount',\n",
       " 'improvement_surcharge',\n",
       " 'total_amount',\n",
       " 'congestion_surcharge']"
      ]
     },
     "execution_count": 82,
     "metadata": {},
     "output_type": "execute_result"
    }
   ],
   "source": [
    "df_yellow.columns"
   ]
  },
  {
   "cell_type": "code",
   "execution_count": 81,
   "metadata": {},
   "outputs": [
    {
     "data": {
      "text/plain": [
       "['VendorID',\n",
       " 'pickup_datetime',\n",
       " 'dropoff_datetime',\n",
       " 'store_and_fwd_flag',\n",
       " 'RatecodeID',\n",
       " 'PULocationID',\n",
       " 'DOLocationID',\n",
       " 'passenger_count',\n",
       " 'trip_distance',\n",
       " 'fare_amount',\n",
       " 'extra',\n",
       " 'mta_tax',\n",
       " 'tip_amount',\n",
       " 'tolls_amount',\n",
       " 'ehail_fee',\n",
       " 'improvement_surcharge',\n",
       " 'total_amount',\n",
       " 'payment_type',\n",
       " 'trip_type',\n",
       " 'congestion_surcharge']"
      ]
     },
     "execution_count": 81,
     "metadata": {},
     "output_type": "execute_result"
    }
   ],
   "source": [
    "df_green.columns"
   ]
  },
  {
   "attachments": {},
   "cell_type": "markdown",
   "metadata": {},
   "source": [
    "# Intersect\n",
    "##### - We look same column"
   ]
  },
  {
   "cell_type": "code",
   "execution_count": 24,
   "metadata": {},
   "outputs": [
    {
     "data": {
      "text/plain": [
       "{'DOLocationID',\n",
       " 'PULocationID',\n",
       " 'RatecodeID',\n",
       " 'VendorID',\n",
       " 'congestion_surcharge',\n",
       " 'extra',\n",
       " 'fare_amount',\n",
       " 'improvement_surcharge',\n",
       " 'mta_tax',\n",
       " 'passenger_count',\n",
       " 'payment_type',\n",
       " 'store_and_fwd_flag',\n",
       " 'tip_amount',\n",
       " 'tolls_amount',\n",
       " 'total_amount',\n",
       " 'trip_distance'}"
      ]
     },
     "execution_count": 24,
     "metadata": {},
     "output_type": "execute_result"
    }
   ],
   "source": [
    "set(df_yellow.columns) & set(df_green.columns)"
   ]
  },
  {
   "attachments": {},
   "cell_type": "markdown",
   "metadata": {},
   "source": [
    "# Merge Different Column "
   ]
  },
  {
   "cell_type": "code",
   "execution_count": 79,
   "metadata": {},
   "outputs": [],
   "source": [
    "df_green = df_green.withColumnRenamed('lpep_pickup_datetime','pickup_datetime').withColumnRenamed(\"lpep_dropoff_datetime\",\"dropoff_datetime\")"
   ]
  },
  {
   "cell_type": "code",
   "execution_count": 80,
   "metadata": {},
   "outputs": [],
   "source": [
    "\n",
    "df_yellow = df_yellow.withColumnRenamed('tpep_pickup_datetime','pickup_datetime').withColumnRenamed(\"tpep_dropoff_datetime\",\"dropoff_datetime\")"
   ]
  },
  {
   "cell_type": "code",
   "execution_count": 83,
   "metadata": {},
   "outputs": [],
   "source": [
    "intersect_column = []\n",
    "\n",
    "yellow_column = set(df_yellow.columns)\n",
    "\n",
    "for col in df_green.columns:\n",
    "    if col in yellow_column:\n",
    "        intersect_column.append(col)"
   ]
  },
  {
   "cell_type": "code",
   "execution_count": 84,
   "metadata": {},
   "outputs": [
    {
     "name": "stdout",
     "output_type": "stream",
     "text": [
      "+--------+-------------------+-------------------+------------------+----------+------------+------------+---------------+-------------+-----------+-----+-------+----------+------------+---------------------+------------+------------+--------------------+\n",
      "|VendorID|    pickup_datetime|   dropoff_datetime|store_and_fwd_flag|RatecodeID|PULocationID|DOLocationID|passenger_count|trip_distance|fare_amount|extra|mta_tax|tip_amount|tolls_amount|improvement_surcharge|total_amount|payment_type|congestion_surcharge|\n",
      "+--------+-------------------+-------------------+------------------+----------+------------+------------+---------------+-------------+-----------+-----+-------+----------+------------+---------------------+------------+------------+--------------------+\n",
      "|       1|2019-01-23 20:18:11|2019-01-23 20:24:59|                 N|         1|         244|         116|              1|          1.2|        6.5|  0.5|    0.5|      1.55|         0.0|                  0.3|        9.35|           1|                null|\n",
      "|       2|2019-01-25 07:58:26|2019-01-25 09:07:36|                 N|         1|          55|          55|              1|         10.0|       44.5|  0.0|    0.5|       0.0|         0.0|                  0.3|        45.3|           2|                null|\n",
      "|       2|2019-01-10 12:09:53|2019-01-10 12:54:14|                 N|         1|          41|         234|              1|         5.78|       29.0|  0.0|    0.5|      7.45|         0.0|                  0.3|       37.25|           1|                null|\n",
      "|       2|2019-01-22 18:36:43|2019-01-22 18:42:20|                 N|         1|         193|           7|              1|         1.05|        6.0|  1.0|    0.5|      1.17|         0.0|                  0.3|        8.97|           1|                null|\n",
      "|       2|2019-01-06 19:34:42|2019-01-06 19:40:47|                 N|         1|          74|         236|              1|         1.56|        7.0|  0.0|    0.5|      1.56|         0.0|                  0.3|        9.36|           1|                null|\n",
      "|       2|2019-01-28 21:37:10|2019-01-28 21:48:53|                 N|         1|          42|         263|              1|         2.79|       10.5|  0.5|    0.5|      2.36|         0.0|                  0.3|       16.11|           1|                 0.0|\n",
      "|       2|2019-01-27 16:06:23|2019-01-27 16:14:34|                 N|         1|          74|         152|              2|         0.96|        7.0|  0.0|    0.5|       0.0|         0.0|                  0.3|         7.8|           2|                null|\n",
      "|       2|2019-01-18 22:43:19|2019-01-18 22:51:12|                 N|         1|          42|          42|              1|          1.5|        7.5|  0.5|    0.5|       2.2|         0.0|                  0.3|        11.0|           1|                null|\n",
      "|       2|2019-01-23 16:34:55|2019-01-23 17:03:31|                 N|         1|         136|          42|              1|         5.16|       23.0|  1.0|    0.5|       0.0|         0.0|                  0.3|        24.8|           1|                null|\n",
      "|       2|2019-01-14 13:12:52|2019-01-14 13:27:15|                 N|         1|          41|         263|              1|         2.34|       11.5|  0.0|    0.5|       0.0|         0.0|                  0.3|        12.3|           2|                null|\n",
      "|       2|2019-01-10 23:03:58|2019-01-10 23:08:45|                 N|         1|         179|           7|              1|         0.85|        5.0|  0.5|    0.5|      1.26|         0.0|                  0.3|        7.56|           1|                null|\n",
      "|       1|2019-01-09 17:06:19|2019-01-09 17:26:12|                 N|         1|         260|          82|              3|          2.4|       14.0|  1.0|    0.5|       0.0|         0.0|                  0.3|        15.8|           2|                null|\n",
      "|       2|2019-01-29 12:17:57|2019-01-29 12:41:22|                 N|         1|         129|         235|              1|        10.01|       31.0|  0.0|    0.5|       0.0|        5.76|                  0.3|       37.56|           2|                 0.0|\n",
      "|       2|2019-01-02 20:43:13|2019-01-02 20:52:03|                 N|         1|         112|         112|              1|         1.72|        8.0|  0.5|    0.5|       0.0|         0.0|                  0.3|         9.3|           2|                null|\n",
      "|       2|2019-01-16 07:47:41|2019-01-16 07:52:48|                 N|         1|         166|          42|              1|         1.04|        5.5|  0.0|    0.5|       0.0|         0.0|                  0.3|         6.3|           2|                null|\n",
      "|       2|2019-01-07 21:45:19|2019-01-07 21:48:30|                 N|         1|          65|          25|              1|          0.5|        4.0|  0.5|    0.5|      1.06|         0.0|                  0.3|        6.36|           1|                null|\n",
      "|       2|2019-01-02 09:27:53|2019-01-02 10:13:44|                 N|         1|         257|         132|              1|        20.14|       59.0|  0.0|    0.5|     14.95|         0.0|                  0.3|        76.7|           1|                null|\n",
      "|       2|2019-01-31 07:58:14|2019-01-31 08:26:42|                 N|         1|          10|         131|              1|          5.0|       20.5|  0.0|    0.5|       0.0|         0.0|                  0.3|        21.3|           1|                 0.0|\n",
      "|       2|2019-01-17 12:40:18|2019-01-17 13:30:29|                 N|         5|          14|         132|              1|        21.29|      56.05|  0.0|    0.5|       0.0|         0.0|                  0.0|       56.55|           1|                null|\n",
      "|       2|2019-01-25 07:46:02|2019-01-25 07:46:11|                 N|         1|          41|          41|              1|          0.0|        2.5|  0.0|    0.5|       0.0|         0.0|                  0.3|         3.3|           2|                null|\n",
      "+--------+-------------------+-------------------+------------------+----------+------------+------------+---------------+-------------+-----------+-----+-------+----------+------------+---------------------+------------+------------+--------------------+\n",
      "only showing top 20 rows\n",
      "\n"
     ]
    }
   ],
   "source": [
    "df_green.select(intersect_column).show()"
   ]
  },
  {
   "attachments": {},
   "cell_type": "markdown",
   "metadata": {},
   "source": [
    "# Create Flag data"
   ]
  },
  {
   "cell_type": "code",
   "execution_count": 85,
   "metadata": {},
   "outputs": [],
   "source": [
    "df_green = df_green.select(intersect_column).withColumn(\"service_type\",F.lit(\"green\"))"
   ]
  },
  {
   "cell_type": "code",
   "execution_count": 86,
   "metadata": {},
   "outputs": [],
   "source": [
    "df_yellow = df_yellow.select(intersect_column).withColumn(\"service_type\",F.lit(\"yellow\"))"
   ]
  },
  {
   "cell_type": "code",
   "execution_count": 87,
   "metadata": {},
   "outputs": [],
   "source": [
    "df_trips_data = df_green.union(df_yellow)"
   ]
  },
  {
   "cell_type": "code",
   "execution_count": 88,
   "metadata": {},
   "outputs": [
    {
     "data": {
      "text/plain": [
       "[Row(VendorID=1, pickup_datetime=datetime.datetime(2019, 1, 23, 20, 18, 11), dropoff_datetime=datetime.datetime(2019, 1, 23, 20, 24, 59), store_and_fwd_flag='N', RatecodeID=1, PULocationID=244, DOLocationID=116, passenger_count=1, trip_distance=1.2, fare_amount=6.5, extra=0.5, mta_tax=0.5, tip_amount=1.55, tolls_amount=0.0, improvement_surcharge=0.3, total_amount=9.35, payment_type=1, congestion_surcharge=None, service_type='green'),\n",
       " Row(VendorID=2, pickup_datetime=datetime.datetime(2019, 1, 25, 7, 58, 26), dropoff_datetime=datetime.datetime(2019, 1, 25, 9, 7, 36), store_and_fwd_flag='N', RatecodeID=1, PULocationID=55, DOLocationID=55, passenger_count=1, trip_distance=10.0, fare_amount=44.5, extra=0.0, mta_tax=0.5, tip_amount=0.0, tolls_amount=0.0, improvement_surcharge=0.3, total_amount=45.3, payment_type=2, congestion_surcharge=None, service_type='green'),\n",
       " Row(VendorID=2, pickup_datetime=datetime.datetime(2019, 1, 10, 12, 9, 53), dropoff_datetime=datetime.datetime(2019, 1, 10, 12, 54, 14), store_and_fwd_flag='N', RatecodeID=1, PULocationID=41, DOLocationID=234, passenger_count=1, trip_distance=5.78, fare_amount=29.0, extra=0.0, mta_tax=0.5, tip_amount=7.45, tolls_amount=0.0, improvement_surcharge=0.3, total_amount=37.25, payment_type=1, congestion_surcharge=None, service_type='green'),\n",
       " Row(VendorID=2, pickup_datetime=datetime.datetime(2019, 1, 22, 18, 36, 43), dropoff_datetime=datetime.datetime(2019, 1, 22, 18, 42, 20), store_and_fwd_flag='N', RatecodeID=1, PULocationID=193, DOLocationID=7, passenger_count=1, trip_distance=1.05, fare_amount=6.0, extra=1.0, mta_tax=0.5, tip_amount=1.17, tolls_amount=0.0, improvement_surcharge=0.3, total_amount=8.97, payment_type=1, congestion_surcharge=None, service_type='green'),\n",
       " Row(VendorID=2, pickup_datetime=datetime.datetime(2019, 1, 6, 19, 34, 42), dropoff_datetime=datetime.datetime(2019, 1, 6, 19, 40, 47), store_and_fwd_flag='N', RatecodeID=1, PULocationID=74, DOLocationID=236, passenger_count=1, trip_distance=1.56, fare_amount=7.0, extra=0.0, mta_tax=0.5, tip_amount=1.56, tolls_amount=0.0, improvement_surcharge=0.3, total_amount=9.36, payment_type=1, congestion_surcharge=None, service_type='green')]"
      ]
     },
     "execution_count": 88,
     "metadata": {},
     "output_type": "execute_result"
    }
   ],
   "source": [
    "df_trips_data.head(5)"
   ]
  },
  {
   "cell_type": "code",
   "execution_count": 45,
   "metadata": {},
   "outputs": [
    {
     "name": "stderr",
     "output_type": "stream",
     "text": [
      "[Stage 16:=============================================>         (61 + 12) / 73]\r"
     ]
    },
    {
     "name": "stdout",
     "output_type": "stream",
     "text": [
      "+------------+---------+\n",
      "|service_type|    count|\n",
      "+------------+---------+\n",
      "|       green|  8348567|\n",
      "|      yellow|122586321|\n",
      "+------------+---------+\n",
      "\n"
     ]
    },
    {
     "name": "stderr",
     "output_type": "stream",
     "text": [
      "                                                                                \r"
     ]
    }
   ],
   "source": [
    "df_trips_data.groupBy(\"service_type\").count().show()"
   ]
  },
  {
   "attachments": {},
   "cell_type": "markdown",
   "metadata": {},
   "source": [
    "# View Table SQL"
   ]
  },
  {
   "cell_type": "code",
   "execution_count": 89,
   "metadata": {},
   "outputs": [
    {
     "name": "stderr",
     "output_type": "stream",
     "text": [
      "/home/saputra/belajar/data-batch-processing/belajar_batch/lib/python3.9/site-packages/pyspark/sql/dataframe.py:229: FutureWarning: Deprecated in 2.0, use createOrReplaceTempView instead.\n",
      "  warnings.warn(\"Deprecated in 2.0, use createOrReplaceTempView instead.\", FutureWarning)\n"
     ]
    }
   ],
   "source": [
    "df_trips_data.registerTempTable(\"trips_data\")"
   ]
  },
  {
   "cell_type": "code",
   "execution_count": 49,
   "metadata": {},
   "outputs": [
    {
     "name": "stderr",
     "output_type": "stream",
     "text": [
      "[Stage 19:==================================================>     (66 + 7) / 73]\r"
     ]
    },
    {
     "name": "stdout",
     "output_type": "stream",
     "text": [
      "+------------+---------+\n",
      "|service_type| count(1)|\n",
      "+------------+---------+\n",
      "|       green|  8348567|\n",
      "|      yellow|122586321|\n",
      "+------------+---------+\n",
      "\n"
     ]
    },
    {
     "name": "stderr",
     "output_type": "stream",
     "text": [
      "                                                                                \r"
     ]
    }
   ],
   "source": [
    "spark.sql(\"\"\"\n",
    "    SELECT service_type,count(1) \n",
    "    FROM trips_data \n",
    "    GROUP BY service_type\n",
    "\"\"\").show()"
   ]
  },
  {
   "cell_type": "code",
   "execution_count": 94,
   "metadata": {},
   "outputs": [
    {
     "name": "stdout",
     "output_type": "stream",
     "text": [
      "The history saving thread hit an unexpected error (OperationalError('database or disk is full')).History will not be written to the database.\n"
     ]
    }
   ],
   "source": [
    "df_result = spark.sql(\"\"\"\n",
    "SELECT \n",
    "    -- Reveneue grouping \n",
    "    PULocationID AS revenue_zone,\n",
    "    date_trunc('month', pickup_datetime) AS revenue_month, \n",
    "    service_type, \n",
    "\n",
    "    -- Revenue calculation \n",
    "    SUM(fare_amount) AS revenue_monthly_fare,\n",
    "    SUM(extra) AS revenue_monthly_extra,\n",
    "    SUM(mta_tax) AS revenue_monthly_mta_tax,\n",
    "    SUM(tip_amount) AS revenue_monthly_tip_amount,\n",
    "    SUM(tolls_amount) AS revenue_monthly_tolls_amount,\n",
    "    SUM(improvement_surcharge) AS revenue_monthly_improvement_surcharge,\n",
    "    SUM(total_amount) AS revenue_monthly_total_amount,\n",
    "    SUM(congestion_surcharge) AS revenue_monthly_congestion_surcharge,\n",
    "\n",
    "    -- Additional calculations\n",
    "    AVG(passenger_count) AS avg_montly_passenger_count,\n",
    "    AVG(trip_distance) AS avg_montly_trip_distance\n",
    "FROM\n",
    "    trips_data\n",
    "GROUP BY\n",
    "    1, 2, 3\n",
    "\"\"\")\n",
    "\n",
    "# 1 , 2 , 3 refers to select attribute"
   ]
  },
  {
   "attachments": {},
   "cell_type": "markdown",
   "metadata": {},
   "source": [
    "# Reduce partition to save less partition"
   ]
  },
  {
   "cell_type": "code",
   "execution_count": 96,
   "metadata": {},
   "outputs": [
    {
     "name": "stderr",
     "output_type": "stream",
     "text": [
      "                                                                                \r"
     ]
    }
   ],
   "source": [
    "df_result.coalesce(1).write.parquet('./data/report/revenue',mode=\"overwrite\")"
   ]
  }
 ],
 "metadata": {
  "kernelspec": {
   "display_name": "belajar_batch",
   "language": "python",
   "name": "python3"
  },
  "language_info": {
   "codemirror_mode": {
    "name": "ipython",
    "version": 3
   },
   "file_extension": ".py",
   "mimetype": "text/x-python",
   "name": "python",
   "nbconvert_exporter": "python",
   "pygments_lexer": "ipython3",
   "version": "3.9.13 (main, Aug 25 2022, 23:26:10) \n[GCC 11.2.0]"
  },
  "orig_nbformat": 4,
  "vscode": {
   "interpreter": {
    "hash": "d8cc084d3f3e07bb8571b2a078dca074b14c05ca679100a9a371d8e778c10801"
   }
  }
 },
 "nbformat": 4,
 "nbformat_minor": 2
}
